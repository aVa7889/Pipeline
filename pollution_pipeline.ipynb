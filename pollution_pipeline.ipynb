{
 "cells": [
  {
   "cell_type": "code",
   "execution_count": 1,
   "metadata": {},
   "outputs": [],
   "source": [
    "import pandas as pd\n",
    "import pipeline_utilities as p_utils"
   ]
  },
  {
   "cell_type": "code",
   "execution_count": 2,
   "metadata": {},
   "outputs": [],
   "source": [
    "# Import the data\n",
    "NE_wind_df = pd.read_csv(\"https://static.bc-edx.com/ai/ail-v-1-0/m12/lesson_3/datasets/beijing-pm2-5-NE.csv\")\n",
    "NW_wind_df = pd.read_csv(\"https://static.bc-edx.com/ai/ail-v-1-0/m12/lesson_3/datasets/beijing-pm2-5-NW.csv\")\n",
    "SE_wind_df = pd.read_csv(\"https://static.bc-edx.com/ai/ail-v-1-0/m12/lesson_3/datasets/beijing-pm2-5-SE.csv\")\n",
    "cv_wind_df = pd.read_csv(\"https://static.bc-edx.com/ai/ail-v-1-0/m12/lesson_3/datasets/beijing-pm2-5-cv.csv\")"
   ]
  },
  {
   "cell_type": "code",
   "execution_count": 3,
   "metadata": {},
   "outputs": [
    {
     "data": {
      "text/html": [
       "<div>\n",
       "<style scoped>\n",
       "    .dataframe tbody tr th:only-of-type {\n",
       "        vertical-align: middle;\n",
       "    }\n",
       "\n",
       "    .dataframe tbody tr th {\n",
       "        vertical-align: top;\n",
       "    }\n",
       "\n",
       "    .dataframe thead th {\n",
       "        text-align: right;\n",
       "    }\n",
       "</style>\n",
       "<table border=\"1\" class=\"dataframe\">\n",
       "  <thead>\n",
       "    <tr style=\"text-align: right;\">\n",
       "      <th></th>\n",
       "      <th>No</th>\n",
       "      <th>year</th>\n",
       "      <th>month</th>\n",
       "      <th>day</th>\n",
       "      <th>hour</th>\n",
       "      <th>pm2.5</th>\n",
       "      <th>DEWP</th>\n",
       "      <th>TEMP</th>\n",
       "      <th>PRES</th>\n",
       "      <th>cbwd</th>\n",
       "      <th>Iws</th>\n",
       "      <th>Is</th>\n",
       "      <th>Ir</th>\n",
       "    </tr>\n",
       "  </thead>\n",
       "  <tbody>\n",
       "    <tr>\n",
       "      <th>0</th>\n",
       "      <td>19</td>\n",
       "      <td>2010</td>\n",
       "      <td>1</td>\n",
       "      <td>1</td>\n",
       "      <td>18</td>\n",
       "      <td>NaN</td>\n",
       "      <td>-18</td>\n",
       "      <td>-5.0</td>\n",
       "      <td>1016.0</td>\n",
       "      <td>NE</td>\n",
       "      <td>1.79</td>\n",
       "      <td>0</td>\n",
       "      <td>0</td>\n",
       "    </tr>\n",
       "    <tr>\n",
       "      <th>1</th>\n",
       "      <td>102</td>\n",
       "      <td>2010</td>\n",
       "      <td>1</td>\n",
       "      <td>5</td>\n",
       "      <td>5</td>\n",
       "      <td>28.0</td>\n",
       "      <td>-27</td>\n",
       "      <td>-16.0</td>\n",
       "      <td>1034.0</td>\n",
       "      <td>NE</td>\n",
       "      <td>4.92</td>\n",
       "      <td>0</td>\n",
       "      <td>0</td>\n",
       "    </tr>\n",
       "    <tr>\n",
       "      <th>2</th>\n",
       "      <td>103</td>\n",
       "      <td>2010</td>\n",
       "      <td>1</td>\n",
       "      <td>5</td>\n",
       "      <td>6</td>\n",
       "      <td>27.0</td>\n",
       "      <td>-26</td>\n",
       "      <td>-16.0</td>\n",
       "      <td>1035.0</td>\n",
       "      <td>NE</td>\n",
       "      <td>8.05</td>\n",
       "      <td>0</td>\n",
       "      <td>0</td>\n",
       "    </tr>\n",
       "    <tr>\n",
       "      <th>3</th>\n",
       "      <td>104</td>\n",
       "      <td>2010</td>\n",
       "      <td>1</td>\n",
       "      <td>5</td>\n",
       "      <td>7</td>\n",
       "      <td>27.0</td>\n",
       "      <td>-27</td>\n",
       "      <td>-16.0</td>\n",
       "      <td>1034.0</td>\n",
       "      <td>NE</td>\n",
       "      <td>13.86</td>\n",
       "      <td>0</td>\n",
       "      <td>0</td>\n",
       "    </tr>\n",
       "    <tr>\n",
       "      <th>4</th>\n",
       "      <td>105</td>\n",
       "      <td>2010</td>\n",
       "      <td>1</td>\n",
       "      <td>5</td>\n",
       "      <td>8</td>\n",
       "      <td>27.0</td>\n",
       "      <td>-26</td>\n",
       "      <td>-16.0</td>\n",
       "      <td>1035.0</td>\n",
       "      <td>NE</td>\n",
       "      <td>18.78</td>\n",
       "      <td>0</td>\n",
       "      <td>0</td>\n",
       "    </tr>\n",
       "  </tbody>\n",
       "</table>\n",
       "</div>"
      ],
      "text/plain": [
       "    No  year  month  day  hour  pm2.5  DEWP  TEMP    PRES cbwd    Iws  Is  Ir\n",
       "0   19  2010      1    1    18    NaN   -18  -5.0  1016.0   NE   1.79   0   0\n",
       "1  102  2010      1    5     5   28.0   -27 -16.0  1034.0   NE   4.92   0   0\n",
       "2  103  2010      1    5     6   27.0   -26 -16.0  1035.0   NE   8.05   0   0\n",
       "3  104  2010      1    5     7   27.0   -27 -16.0  1034.0   NE  13.86   0   0\n",
       "4  105  2010      1    5     8   27.0   -26 -16.0  1035.0   NE  18.78   0   0"
      ]
     },
     "execution_count": 3,
     "metadata": {},
     "output_type": "execute_result"
    }
   ],
   "source": [
    "# Look at first few rows of NE wind data\n",
    "NE_wind_df.head()"
   ]
  },
  {
   "cell_type": "code",
   "execution_count": 4,
   "metadata": {},
   "outputs": [
    {
     "name": "stdout",
     "output_type": "stream",
     "text": [
      "Percent of rows dropped: 4.82%\n",
      "Correlations between pm2.5 and other features:\n",
      "year      -0.026832\n",
      "month      0.056988\n",
      "day        0.067155\n",
      "hour       0.015384\n",
      "pm2.5      1.000000\n",
      "DEWP       0.187971\n",
      "TEMP      -0.084235\n",
      "PRES      -0.089986\n",
      "Iws       -0.281288\n",
      "Is         0.023278\n",
      "Ir        -0.066956\n",
      "cbwd_NE         NaN\n",
      "Name: pm2.5, dtype: float64\n",
      "Testing all features\n",
      "Mean Squared Error: 7359.975844164027\n",
      "R-squared: 0.3011088343473505\n",
      "Adjusted R-squared: 0.2945771412104098\n",
      "Testing selected features\n",
      "Mean Squared Error: 6949.60013900379\n",
      "R-squared: 0.22554143831064977\n",
      "Adjusted R-squared: 0.2242354373634502\n",
      "Returning all feature pipeline\n"
     ]
    }
   ],
   "source": [
    "NE_wind_model = p_utils.pollutiuon_model_generator(NE_wind_df)"
   ]
  },
  {
   "cell_type": "code",
   "execution_count": 5,
   "metadata": {},
   "outputs": [
    {
     "name": "stdout",
     "output_type": "stream",
     "text": [
      "Percent of rows dropped: 4.71%\n",
      "Correlations between pm2.5 and other features:\n",
      "year       0.009341\n",
      "month     -0.041697\n",
      "day        0.080425\n",
      "hour      -0.148159\n",
      "pm2.5      1.000000\n",
      "DEWP       0.180270\n",
      "TEMP      -0.146412\n",
      "PRES      -0.057679\n",
      "Iws       -0.297560\n",
      "Is         0.047785\n",
      "Ir        -0.035110\n",
      "cbwd_NW         NaN\n",
      "Name: pm2.5, dtype: float64\n",
      "Testing all features\n",
      "Mean Squared Error: 5165.9467156223045\n",
      "R-squared: 0.2953644744576609\n",
      "Adjusted R-squared: 0.29305694519866543\n",
      "Testing selected features\n",
      "Mean Squared Error: 6202.788215778356\n",
      "R-squared: 0.2617679603773094\n",
      "Adjusted R-squared: 0.26067103312675555\n",
      "Returning all feature pipeline\n"
     ]
    }
   ],
   "source": [
    "NW_wind_model = p_utils.pollutiuon_model_generator(NW_wind_df)"
   ]
  },
  {
   "cell_type": "code",
   "execution_count": 6,
   "metadata": {},
   "outputs": [
    {
     "name": "stdout",
     "output_type": "stream",
     "text": [
      "Percent of rows dropped: 4.69%\n",
      "Correlations between pm2.5 and other features:\n",
      "year      -0.057998\n",
      "month     -0.037524\n",
      "day        0.085812\n",
      "hour      -0.070342\n",
      "pm2.5      1.000000\n",
      "DEWP       0.077811\n",
      "TEMP      -0.158810\n",
      "PRES       0.054110\n",
      "Iws       -0.081061\n",
      "Is         0.001881\n",
      "Ir        -0.020287\n",
      "cbwd_SE         NaN\n",
      "Name: pm2.5, dtype: float64\n",
      "Testing all features\n",
      "Mean Squared Error: 5351.021711609374\n",
      "R-squared: 0.18384738582244098\n",
      "Adjusted R-squared: 0.18137555797113225\n",
      "Testing selected features\n",
      "Mean Squared Error: 5388.375857775301\n",
      "R-squared: 0.1446820584503301\n",
      "Adjusted R-squared: 0.14397712608092095\n",
      "Returning all feature pipeline\n"
     ]
    }
   ],
   "source": [
    "SE_wind_model = p_utils.pollutiuon_model_generator(SE_wind_df)"
   ]
  },
  {
   "cell_type": "code",
   "execution_count": 7,
   "metadata": {},
   "outputs": [
    {
     "name": "stdout",
     "output_type": "stream",
     "text": [
      "Percent of rows dropped: 4.72%\n",
      "Correlations between pm2.5 and other features:\n",
      "year      -0.049156\n",
      "month     -0.016683\n",
      "day        0.080160\n",
      "hour       0.053957\n",
      "pm2.5      1.000000\n",
      "DEWP      -0.023319\n",
      "TEMP      -0.239952\n",
      "PRES       0.094639\n",
      "Iws       -0.049531\n",
      "Is         0.003804\n",
      "Ir        -0.062819\n",
      "cbwd_cv         NaN\n",
      "Name: pm2.5, dtype: float64\n",
      "Testing all features\n",
      "Mean Squared Error: 7182.548801431329\n",
      "R-squared: 0.21290847868086893\n",
      "Adjusted R-squared: 0.20901549004125097\n",
      "Testing selected features\n",
      "Mean Squared Error: 8518.632465161772\n",
      "R-squared: 0.18253707570440125\n",
      "Adjusted R-squared: 0.1814383352147566\n",
      "Returning all feature pipeline\n"
     ]
    }
   ],
   "source": [
    "cv_wind_model = p_utils.pollutiuon_model_generator(cv_wind_df)"
   ]
  }
 ],
 "metadata": {
  "kernelspec": {
   "display_name": "dev",
   "language": "python",
   "name": "python3"
  },
  "language_info": {
   "codemirror_mode": {
    "name": "ipython",
    "version": 3
   },
   "file_extension": ".py",
   "mimetype": "text/x-python",
   "name": "python",
   "nbconvert_exporter": "python",
   "pygments_lexer": "ipython3",
   "version": "3.10.13"
  }
 },
 "nbformat": 4,
 "nbformat_minor": 2
}
